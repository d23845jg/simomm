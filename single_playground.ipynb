{
 "cells": [
  {
   "cell_type": "code",
   "execution_count": null,
   "metadata": {},
   "outputs": [],
   "source": [
    "import torch.optim as optim\n",
    "import os\n",
    "import yaml\n",
    "import wandb\n",
    "\n",
    "from jinja2 import Environment, FileSystemLoader\n",
    "\n",
    "from training.create_dataset import *\n",
    "from training.create_network import *\n",
    "from training.utils import create_task_flags, TaskMetric, compute_loss, eval\n",
    "from utils import torch_save, get_data_loaders, initialize_wandb\n",
    "\n",
    "# Login to wandb\n",
    "wandb.login()"
   ]
  },
  {
   "cell_type": "code",
   "execution_count": 2,
   "metadata": {},
   "outputs": [],
   "source": [
    "# Options for training\n",
    "env = Environment(loader=FileSystemLoader('.'))\n",
    "template = env.get_template('config/mtl.yaml.j2')\n",
    "rendered_yaml = template.render()\n",
    "config = yaml.safe_load(rendered_yaml)\n",
    "\n",
    "# Create logging folder to store training weights and losses\n",
    "os.makedirs(\"logs\", exist_ok=True)\n",
    "\n",
    "model_classes = {\n",
    "  \"split\": MTLDeepLabv3,\n",
    "  \"mtan\": MTANDeepLabv3\n",
    "}"
   ]
  },
  {
   "cell_type": "code",
   "execution_count": null,
   "metadata": {},
   "outputs": [],
   "source": [
    "initialize_wandb(\n",
    "  project=config[\"wandb\"][\"project\"], \n",
    "  group=f\"{config['training_params']['network']}\", \n",
    "  job_type=\"task_specific\", \n",
    "  mode=config[\"wandb\"][\"mode\"], \n",
    "  config={\n",
    "    \"task\": config['training_params']['task'],\n",
    "    \"network\": config['training_params']['network'],\n",
    "    \"dataset\": config['training_params']['dataset'],\n",
    "    \"epochs\": config['training_params']['total_epochs'],\n",
    "    \"lr\": config['training_params']['lr'],\n",
    "    \"batch_size\": config['training_params']['batch_size'],\n",
    "    \"seed\": config['training_params']['seed'],\n",
    "  }\n",
    ")"
   ]
  },
  {
   "cell_type": "code",
   "execution_count": 3,
   "metadata": {},
   "outputs": [],
   "source": [
    "torch.manual_seed(config[\"training_params\"][\"seed\"])\n",
    "np.random.seed(config[\"training_params\"][\"seed\"])\n",
    "random.seed(config[\"training_params\"][\"seed\"])\n",
    "\n",
    "# device = torch.device(f\"cuda:{config[\"training_params\"]['gpu']}\" if torch.cuda.is_available() else \"cpu\")\n",
    "device = torch.device(\"cuda\" if torch.cuda.is_available() else \"cpu\")"
   ]
  },
  {
   "cell_type": "code",
   "execution_count": 4,
   "metadata": {},
   "outputs": [],
   "source": [
    "train_loader, val_loader, test_loader = get_data_loaders(config)"
   ]
  },
  {
   "cell_type": "code",
   "execution_count": null,
   "metadata": {},
   "outputs": [],
   "source": [
    "train_tasks = create_task_flags(config[\"training_params\"][\"task\"], config[\"training_params\"][\"dataset\"])\n",
    "print(f\"Training Task: {config['training_params']['dataset'].title()} - {config['training_params']['task'].title()} in Single Task Learning Mode with {config['training_params']['network'].upper()}\")\n",
    "\n",
    "# Initialize model\n",
    "model = model_classes[config[\"training_params\"][\"network\"]](train_tasks).to(device)\n",
    "num_params = sum(p.numel() for p in model.parameters() if p.requires_grad)\n",
    "print(f\"Model: {config['training_params']['network'].title()} | Number of Trainable Parameters: {num_params/1e6:.2f}M\")"
   ]
  },
  {
   "cell_type": "code",
   "execution_count": 6,
   "metadata": {},
   "outputs": [],
   "source": [
    "model.freeze_shared_layers()\n",
    "optimizer = optim.SGD(model.parameters(), lr=config[\"training_params\"][\"lr\"], weight_decay=1e-4, momentum=0.9)\n",
    "scheduler = optim.lr_scheduler.CosineAnnealingLR(optimizer, config[\"training_params\"][\"total_epochs\"])"
   ]
  },
  {
   "cell_type": "code",
   "execution_count": null,
   "metadata": {},
   "outputs": [],
   "source": [
    "# Train and evaluate multi-task network\n",
    "train_batch = len(train_loader)\n",
    "test_batch = len(test_loader)\n",
    "train_metric = TaskMetric(train_tasks, train_tasks, config[\"training_params\"][\"batch_size\"], config[\"training_params\"][\"total_epochs\"], config[\"training_params\"][\"dataset\"])\n",
    "test_metric = TaskMetric(train_tasks, train_tasks, config[\"training_params\"][\"batch_size\"], config[\"training_params\"][\"total_epochs\"], config[\"training_params\"][\"dataset\"])\n",
    "\n",
    "#  Training loop\n",
    "for epoch in range(config[\"training_params\"][\"total_epochs\"]):\n",
    "\n",
    "    # training\n",
    "    model.train()\n",
    "    train_dataset = iter(train_loader)\n",
    "    for k in range(train_batch):\n",
    "        train_data, train_target = next(train_dataset)\n",
    "        train_data = train_data.to(device)\n",
    "        train_target = {task_id: train_target[task_id].to(device) for task_id in train_tasks.keys()}\n",
    "\n",
    "        train_pred = model(train_data)\n",
    "        optimizer.zero_grad()\n",
    "\n",
    "        train_loss = [compute_loss(train_pred[i], train_target[task_id], task_id) for i, task_id in enumerate(train_tasks)]\n",
    "        train_loss[0].backward()\n",
    "        optimizer.step()\n",
    "\n",
    "        train_metric.update_metric(train_pred, train_target, train_loss)\n",
    "\n",
    "    train_str = train_metric.compute_metric()\n",
    "    wandb.log({\n",
    "        **{f\"train/loss/{task_id}\": train_loss[i] for i, task_id in enumerate(train_tasks)},\n",
    "        **{f\"train/metric/{task_id}\": train_metric.get_metric(task_id) for task_id in train_tasks}\n",
    "    }, step=epoch)\n",
    "    train_metric.reset()\n",
    "\n",
    "    # evaluating\n",
    "    test_str = eval(epoch, model, test_loader, test_metric)\n",
    "\n",
    "    scheduler.step()\n",
    "\n",
    "    print(f\"Epoch {epoch:04d} | TRAIN:{train_str} || TEST:{test_str} | Best: {config['training_params']['task'].title()} {test_metric.get_best_performance(config['training_params']['task']):.4f}\")\n",
    "\n",
    "    task_dict = {\"train_loss\": train_metric.metric, \"test_loss\": test_metric.metric}\n",
    "    np.save(\"logging/stl_{}_{}_{}_{}.npy\".format(config[\"training_params\"][\"network\"], config[\"training_params\"][\"dataset\"], config[\"training_params\"][\"task\"], config[\"training_params\"][\"seed\"]), task_dict)"
   ]
  },
  {
   "cell_type": "code",
   "execution_count": 7,
   "metadata": {},
   "outputs": [],
   "source": [
    "# model.freeze_shared_layers(requires_grad=True)\n",
    "# optimizer = optim.SGD(model.parameters(), lr=config[\"training_params\"][\"lr\"], weight_decay=1e-4, momentum=0.9)\n",
    "# scheduler = optim.lr_scheduler.CosineAnnealingLR(optimizer, config[\"training_params\"][\"total_epochs\"])\n",
    "\n",
    "# TODO: better linear probing + full fine-tuning"
   ]
  },
  {
   "cell_type": "code",
   "execution_count": 5,
   "metadata": {},
   "outputs": [],
   "source": [
    "torch_save(model, \"models/seg_model.pt\")"
   ]
  },
  {
   "cell_type": "code",
   "execution_count": null,
   "metadata": {},
   "outputs": [],
   "source": [
    "wandb.finish(quiet=True)"
   ]
  }
 ],
 "metadata": {
  "kernelspec": {
   "display_name": "base",
   "language": "python",
   "name": "python3"
  },
  "language_info": {
   "codemirror_mode": {
    "name": "ipython",
    "version": 3
   },
   "file_extension": ".py",
   "mimetype": "text/x-python",
   "name": "python",
   "nbconvert_exporter": "python",
   "pygments_lexer": "ipython3",
   "version": "3.11.9"
  }
 },
 "nbformat": 4,
 "nbformat_minor": 2
}
