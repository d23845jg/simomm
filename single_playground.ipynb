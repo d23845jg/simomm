{
 "cells": [
  {
   "cell_type": "code",
   "execution_count": 1,
   "metadata": {},
   "outputs": [],
   "source": [
    "import torch.optim as optim\n",
    "import torch.utils.data.sampler as sampler\n",
    "\n",
    "from auto_lambda import AutoLambda\n",
    "from create_network import *\n",
    "from create_dataset import *\n",
    "from utils import *"
   ]
  },
  {
   "cell_type": "code",
   "execution_count": 6,
   "metadata": {},
   "outputs": [],
   "source": [
    "# Options for training\n",
    "opt = {\n",
    "  \"mode\": \"none\", \n",
    "  \"port\": \"none\",\n",
    "\n",
    "  # Model parameters\n",
    "  \"task\": \"depth\", # seg, depth, normal\n",
    "  \"dataset\": \"nyuv2\", # nyuv2, cityscapes\n",
    "  \"network\": \"split\", # split, mtan\n",
    "\n",
    "  # Training parameters\n",
    "  \"total_epochs\" : 1,\n",
    "  \"batch_size\": 4,\n",
    "  \"gpu\": 0, # gpu ID\n",
    "  \"seed\": 42,\n",
    "}\n",
    "\n",
    "# Define dataset paths and loaders\n",
    "dataset_paths = {\n",
    "  \"nyuv2\": \"dataset/nyuv2\",\n",
    "  \"cityscapes\": \"dataset/cityscapes\"\n",
    "}\n",
    "\n",
    "model_classes = {\n",
    "  \"split\": MTLDeepLabv3,\n",
    "  \"mtan\": MTANDeepLabv3\n",
    "}"
   ]
  },
  {
   "cell_type": "code",
   "execution_count": 7,
   "metadata": {},
   "outputs": [],
   "source": [
    "torch.manual_seed(opt[\"seed\"])\n",
    "np.random.seed(opt[\"seed\"])\n",
    "random.seed(opt[\"seed\"])\n",
    "\n",
    "# device = torch.device(f\"cuda:{opt['gpu']}\" if torch.cuda.is_available() else \"cpu\")\n",
    "device = torch.device(\"cuda\" if torch.cuda.is_available() else \"cpu\")"
   ]
  },
  {
   "cell_type": "code",
   "execution_count": 8,
   "metadata": {},
   "outputs": [
    {
     "name": "stdout",
     "output_type": "stream",
     "text": [
      "Training Task: Nyuv2 - Depth in Single Task Learning Mode with SPLIT\n",
      "Model: Split | Number of Trainable Parameters: 39.63M\n"
     ]
    }
   ],
   "source": [
    "# Create logging folder to store training weights and losses\n",
    "os.makedirs(\"logging\", exist_ok=True)\n",
    "\n",
    "train_tasks = create_task_flags(opt[\"task\"], opt[\"dataset\"])\n",
    "print(f\"Training Task: {opt['dataset'].title()} - {opt['task'].title()} in Single Task Learning Mode with {opt['network'].upper()}\")\n",
    "\n",
    "# Initialize model\n",
    "model = model_classes[opt[\"network\"]](train_tasks).to(device)\n",
    "num_params = sum(p.numel() for p in model.parameters() if p.requires_grad)\n",
    "print(f\"Model: {opt['network'].title()} | Number of Trainable Parameters: {num_params/1e6:.2f}M\")\n",
    "\n",
    "# Initialize optimizer and scheduler\n",
    "optimizer = optim.SGD(model.parameters(), lr=0.1, weight_decay=1e-4, momentum=0.9)\n",
    "scheduler = optim.lr_scheduler.CosineAnnealingLR(optimizer, opt[\"total_epochs\"])"
   ]
  },
  {
   "cell_type": "code",
   "execution_count": 9,
   "metadata": {},
   "outputs": [],
   "source": [
    "torch_save(model, 'logging/depth_model.pt')"
   ]
  },
  {
   "cell_type": "code",
   "execution_count": null,
   "metadata": {},
   "outputs": [],
   "source": [
    "if opt[\"dataset\"] in dataset_paths:\n",
    "    dataset_path = dataset_paths[opt[\"dataset\"]]\n",
    "    \n",
    "    # Initialize datasets\n",
    "    if opt[\"dataset\"] == 'nyuv2':\n",
    "        train_set = NYUv2(root=dataset_path, train=True, augmentation=True)\n",
    "        test_set = NYUv2(root=dataset_path, train=False)\n",
    "\n",
    "    elif opt[\"dataset\"] == 'cityscapes':\n",
    "        train_set = CityScapes(root=dataset_path, train=True, augmentation=True)\n",
    "        test_set = CityScapes(root=dataset_path, train=False)\n",
    "    \n",
    "    # Initialize data loaders\n",
    "    train_loader = torch.utils.data.DataLoader(\n",
    "        dataset=train_set,\n",
    "        batch_size=opt[\"batch_size\"],\n",
    "        shuffle=True,\n",
    "        num_workers=4\n",
    "    )\n",
    "    test_loader = torch.utils.data.DataLoader(\n",
    "        dataset=test_set,\n",
    "        batch_size=opt[\"batch_size\"],\n",
    "        shuffle=False\n",
    "    )\n",
    "else:\n",
    "    raise ValueError(f\"Unsupported dataset: {opt['dataset']}\")"
   ]
  },
  {
   "cell_type": "code",
   "execution_count": 4,
   "metadata": {},
   "outputs": [
    {
     "name": "stdout",
     "output_type": "stream",
     "text": [
      "Dataset: Nyuv2 | Training Task: Seg + Depth + Normal | Primary Task: Seg + Depth + Normal in Multi-task / Auxiliary Learning Mode with SPLIT\n",
      "Applying Multi-task Methods | Weighting-based: Equal + Gradient-based: NONE\n",
      "Model: Split | Number of Trainable Parameters: 71.89M\n"
     ]
    }
   ],
   "source": [
    "# Train and evaluate multi-task network\n",
    "train_batch = len(train_loader)\n",
    "test_batch = len(test_loader)\n",
    "train_metric = TaskMetric(train_tasks, train_tasks, opt[\"batch_size\"], opt[\"total_epochs\"], opt[\"dataset\"])\n",
    "test_metric = TaskMetric(train_tasks, train_tasks, opt[\"batch_size\"], opt[\"total_epochs\"], opt[\"dataset\"])\n",
    "\n",
    "# Training loop\n",
    "for index in range(opt[\"total_epochs\"]):\n",
    "\n",
    "    # evaluating train data\n",
    "    model.train()\n",
    "    train_dataset = iter(train_loader)\n",
    "    for k in range(train_batch):\n",
    "        train_data, train_target = train_dataset.next()\n",
    "        train_data = train_data.to(device)\n",
    "        train_target = {task_id: train_target[task_id].to(device) for task_id in train_tasks.keys()}\n",
    "\n",
    "        train_pred = model(train_data)\n",
    "        optimizer.zero_grad()\n",
    "\n",
    "        train_loss = [compute_loss(train_pred[i], train_target[task_id], task_id) for i, task_id in enumerate(train_tasks)]\n",
    "        train_loss[0].backward()\n",
    "        optimizer.step()\n",
    "\n",
    "        train_metric.update_metric(train_pred, train_target, train_loss)\n",
    "\n",
    "    train_str = train_metric.compute_metric()\n",
    "    train_metric.reset()\n",
    "\n",
    "    # evaluating test data\n",
    "    model.eval()\n",
    "    with torch.no_grad():\n",
    "        test_dataset = iter(test_loader)\n",
    "        for k in range(test_batch):\n",
    "            test_data, test_target = test_dataset.next()\n",
    "            test_data = test_data.to(device)\n",
    "            test_target = {task_id: test_target[task_id].to(device) for task_id in train_tasks.keys()}\n",
    "\n",
    "            test_pred = model(test_data)\n",
    "            test_loss = [compute_loss(test_pred[i], test_target[task_id], task_id) for i, task_id in enumerate(train_tasks)]\n",
    "\n",
    "            test_metric.update_metric(test_pred, test_target, test_loss)\n",
    "\n",
    "    test_str = test_metric.compute_metric()\n",
    "    test_metric.reset()\n",
    "\n",
    "    scheduler.step()\n",
    "\n",
    "    print(f\"Epoch {index:04d} | TRAIN:{train_str} || TEST:{test_str} | Best: {opt['task'].title()} {test_metric.get_best_performance(opt['task']):.4f}\")\n",
    "\n",
    "    task_dict = {\"train_loss\": train_metric.metric, \"test_loss\": test_metric.metric}\n",
    "    np.save(\"logging/stl_{}_{}_{}_{}.npy\".format(opt.network, opt.dataset, opt.task, opt.seed), task_dict)"
   ]
  }
 ],
 "metadata": {
  "kernelspec": {
   "display_name": "base",
   "language": "python",
   "name": "python3"
  },
  "language_info": {
   "codemirror_mode": {
    "name": "ipython",
    "version": 3
   },
   "file_extension": ".py",
   "mimetype": "text/x-python",
   "name": "python",
   "nbconvert_exporter": "python",
   "pygments_lexer": "ipython3",
   "version": "3.11.9"
  }
 },
 "nbformat": 4,
 "nbformat_minor": 2
}
