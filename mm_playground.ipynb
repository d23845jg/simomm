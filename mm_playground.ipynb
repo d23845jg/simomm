{
 "cells": [
  {
   "cell_type": "code",
   "execution_count": 1,
   "metadata": {},
   "outputs": [],
   "source": [
    "import yaml\n",
    "\n",
    "from jinja2 import Environment, FileSystemLoader\n",
    "\n",
    "from create_network import *\n",
    "from model_merging.aggregator import aggregate_task_vectors\n",
    "from model_merging.task_vectors import MTLTaskVector\n",
    "from model_merging.eval_utils import perform_eval_with_merged_vector"
   ]
  },
  {
   "cell_type": "code",
   "execution_count": 2,
   "metadata": {},
   "outputs": [],
   "source": [
    "env = Environment(loader=FileSystemLoader('.'))\n",
    "template = env.get_template('config/mtl.yaml.j2')\n",
    "rendered_yaml = template.render()\n",
    "mm_config = yaml.safe_load(rendered_yaml)\n",
    "\n",
    "model_classes = {\n",
    "  \"split\": MTLDeepLabv3,\n",
    "  \"mtan\": MTANDeepLabv3\n",
    "}"
   ]
  },
  {
   "cell_type": "code",
   "execution_count": 3,
   "metadata": {},
   "outputs": [],
   "source": [
    "pt_model = model_classes[mm_config[\"model_merging\"][\"network\"]]({'seg': 13, 'depth': 1}) #  'seg': 13\n",
    "# pt_model = torch_load(mm_config[\"model_merging\"][\"pt_model_file\"])\n",
    "task_vectors = [MTLTaskVector(pt_model, ft_file) for ft_file in mm_config[\"model_merging\"][\"ft_model_files\"]]"
   ]
  },
  {
   "cell_type": "code",
   "execution_count": null,
   "metadata": {},
   "outputs": [],
   "source": [
    "mtl_task_vector = aggregate_task_vectors(task_vectors, mm_config)"
   ]
  },
  {
   "cell_type": "code",
   "execution_count": null,
   "metadata": {},
   "outputs": [],
   "source": [
    "train_tasks_str = ' + '.join(task.title() for task in mtl_task_vector.tasks.keys())\n",
    "print(f\"Dataset: {mm_config['model_merging']['dataset'].title()} | Training Task: {train_tasks_str}\")"
   ]
  },
  {
   "cell_type": "code",
   "execution_count": null,
   "metadata": {},
   "outputs": [],
   "source": [
    "perform_eval_with_merged_vector(pt_model, mtl_task_vector, mm_config)"
   ]
  },
  {
   "cell_type": "markdown",
   "metadata": {},
   "source": [
    "#### Task Arithmetic"
   ]
  },
  {
   "cell_type": "markdown",
   "metadata": {},
   "source": [
    "Seg + Depth\n",
    "\n",
    "=========================================== alpha = 0.00 ===========================================\n",
    "Total evaluation time: 101.41s\n",
    "seg metric: 0.2166 | depth metric: 0.8741\n",
    "Delta MTL: -0.39\n",
    "\n",
    "=========================================== alpha = 0.10 ===========================================\n",
    "Total evaluation time: 119.07s\n",
    "seg metric: 0.2545 | depth metric: 0.8934\n",
    "Delta MTL: -0.37\n",
    "\n",
    "=========================================== alpha = 0.50 ===========================================\n",
    "Total evaluation time: 111.14s\n",
    "seg metric: 0.2004 | depth metric: 1.052\n",
    "Delta MTL: -0.52\n",
    "\n",
    "...\n",
    "Just gets worst for larger alpha\n",
    "\n"
   ]
  },
  {
   "cell_type": "markdown",
   "metadata": {},
   "source": [
    "Seg Only\n",
    "\n",
    "=========================================== alpha = 0.00 ===========================================\n",
    "Total evaluation time: 80.16s\n",
    "seg metric: 0.2166\n",
    "Delta MTL: -0.17\n",
    "\n",
    "=========================================== alpha = 0.50 ===========================================\n",
    "Total evaluation time: 75.67s\n",
    "seg metric: 0.4218\n",
    "Delta MTL: -0.01\n",
    "\n",
    "=========================================== alpha = 1.00 ===========================================\n",
    "Total evaluation time: 80.37s\n",
    "seg metric: 0.4601\n",
    "Delta MTL: 0.02\n"
   ]
  },
  {
   "cell_type": "markdown",
   "metadata": {},
   "source": [
    "Depth Only\n",
    "\n",
    "=========================================== alpha = 0.00 ===========================================\n",
    "Total evaluation time: 79.66s\n",
    "depth metric: 0.8741\n",
    "Delta MTL: -0.22\n",
    "\n",
    "=========================================== alpha = 0.50 ===========================================\n",
    "Total evaluation time: 80.56s\n",
    "depth metric: 1.0947\n",
    "Delta MTL: -0.37\n",
    "\n",
    "=========================================== alpha = 1.00 ===========================================\n",
    "Total evaluation time: 94.97s\n",
    "depth metric: 0.6197\n",
    "Delta MTL: -0.06"
   ]
  },
  {
   "cell_type": "code",
   "execution_count": 8,
   "metadata": {},
   "outputs": [],
   "source": [
    "# torch_save(model, 'logging/pt_model.pt')\n",
    "# torch_load('logging/model_test.pt')"
   ]
  }
 ],
 "metadata": {
  "kernelspec": {
   "display_name": "base",
   "language": "python",
   "name": "python3"
  },
  "language_info": {
   "codemirror_mode": {
    "name": "ipython",
    "version": 3
   },
   "file_extension": ".py",
   "mimetype": "text/x-python",
   "name": "python",
   "nbconvert_exporter": "python",
   "pygments_lexer": "ipython3",
   "version": "3.11.9"
  }
 },
 "nbformat": 4,
 "nbformat_minor": 2
}
