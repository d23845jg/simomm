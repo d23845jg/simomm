{
 "cells": [
  {
   "cell_type": "code",
   "execution_count": 1,
   "metadata": {},
   "outputs": [],
   "source": [
    "import yaml\n",
    "\n",
    "from jinja2 import Environment, FileSystemLoader\n",
    "\n",
    "from create_network import *\n",
    "from model_merging.task_vectors import MTLTaskVector\n",
    "from model_merging.utils import aggregate_task_vectors\n",
    "from model_merging.eval_utils import perform_eval_with_merged_vector\n",
    "from utils import *"
   ]
  },
  {
   "cell_type": "code",
   "execution_count": 2,
   "metadata": {},
   "outputs": [],
   "source": [
    "env = Environment(loader=FileSystemLoader('.'))\n",
    "template = env.get_template('config/mtl.yaml.j2')\n",
    "rendered_yaml = template.render()\n",
    "mm_config = yaml.safe_load(rendered_yaml)\n",
    "\n",
    "model_classes = {\n",
    "  \"split\": MTLDeepLabv3,\n",
    "  \"mtan\": MTANDeepLabv3\n",
    "}"
   ]
  },
  {
   "cell_type": "code",
   "execution_count": 3,
   "metadata": {},
   "outputs": [],
   "source": [
    "pt_model = torch_load(mm_config[\"model_merging\"][\"pt_model_file\"])"
   ]
  },
  {
   "cell_type": "code",
   "execution_count": 4,
   "metadata": {},
   "outputs": [],
   "source": [
    "pt_model = torch_load(mm_config[\"model_merging\"][\"pt_model_file\"])\n",
    "task_vectors = [MTLTaskVector(pt_model, ft_file) for ft_file in mm_config[\"model_merging\"][\"ft_model_files\"]]"
   ]
  },
  {
   "cell_type": "code",
   "execution_count": null,
   "metadata": {},
   "outputs": [],
   "source": [
    "mtl_task_vector = aggregate_task_vectors(task_vectors, mm_config)"
   ]
  },
  {
   "cell_type": "markdown",
   "metadata": {},
   "source": [
    "Create pre-trained model with task-specific heads"
   ]
  },
  {
   "cell_type": "code",
   "execution_count": null,
   "metadata": {},
   "outputs": [],
   "source": [
    "train_tasks_str = ' + '.join(task.title() for task in mtl_task_vector.tasks.keys())\n",
    "print(f\"Dataset: {mm_config['model_merging']['dataset'].title()} | Training Task: {train_tasks_str}\")\n",
    "\n",
    "# Initialize model\n",
    "device = torch.device(\"cuda\" if torch.cuda.is_available() else \"cpu\")\n",
    "pt_model = model_classes[mm_config[\"model_merging\"][\"network\"]](mtl_task_vector.tasks)\n",
    "# ft_models = {\n",
    "#     next(iter(ft_model.tasks.keys())): ft_model\n",
    "#     for ft_file in mm_config[\"model_merging\"][\"ft_model_files\"]\n",
    "#     for ft_model in [torch_load(ft_file)]\n",
    "# }"
   ]
  },
  {
   "cell_type": "code",
   "execution_count": 7,
   "metadata": {},
   "outputs": [],
   "source": [
    "# aa =pt_model.state_dict()[\"shared_conv.0.weight\"] + 1 * mtl_task_vector.vector[\"shared_conv.0.weight\"]\n",
    "# aa"
   ]
  },
  {
   "cell_type": "markdown",
   "metadata": {},
   "source": [
    "Evaluate model"
   ]
  },
  {
   "cell_type": "code",
   "execution_count": null,
   "metadata": {},
   "outputs": [],
   "source": [
    "pt_model.tasks"
   ]
  },
  {
   "cell_type": "code",
   "execution_count": null,
   "metadata": {},
   "outputs": [],
   "source": [
    "mtl_task_vector.tasks"
   ]
  },
  {
   "cell_type": "code",
   "execution_count": null,
   "metadata": {},
   "outputs": [],
   "source": [
    "perform_eval_with_merged_vector(pt_model, mtl_task_vector, mm_config)"
   ]
  },
  {
   "cell_type": "code",
   "execution_count": null,
   "metadata": {},
   "outputs": [],
   "source": [
    "# torch_save(model, 'logging/pt_model.pt')\n",
    "# torch_load('logging/model_test.pt')"
   ]
  }
 ],
 "metadata": {
  "kernelspec": {
   "display_name": "base",
   "language": "python",
   "name": "python3"
  },
  "language_info": {
   "codemirror_mode": {
    "name": "ipython",
    "version": 3
   },
   "file_extension": ".py",
   "mimetype": "text/x-python",
   "name": "python",
   "nbconvert_exporter": "python",
   "pygments_lexer": "ipython3",
   "version": "3.11.9"
  }
 },
 "nbformat": 4,
 "nbformat_minor": 2
}
