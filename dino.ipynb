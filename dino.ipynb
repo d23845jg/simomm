{
 "cells": [
  {
   "cell_type": "code",
   "execution_count": 1,
   "metadata": {},
   "outputs": [],
   "source": [
    "import torch\n",
    "import torch.optim as optim\n",
    "import os\n",
    "import yaml\n",
    "# import wandb\n",
    "\n",
    "from jinja2 import Environment, FileSystemLoader\n",
    "\n",
    "from training.create_dataset import *\n",
    "from training.create_network import *\n",
    "from training.utils import create_task_flags, TaskMetric, eval\n",
    "from utils import torch_save, get_data_loaders, initialize_wandb\n",
    "\n",
    "# Login to wandb\n",
    "# wandb.login()"
   ]
  },
  {
   "cell_type": "code",
   "execution_count": 2,
   "metadata": {},
   "outputs": [],
   "source": [
    "# Options for training\n",
    "env = Environment(loader=FileSystemLoader('.'))\n",
    "template = env.get_template('config/mtl.yaml.j2')\n",
    "rendered_yaml = template.render()\n",
    "config = yaml.safe_load(rendered_yaml)\n",
    "\n",
    "# Create logging folder to store training weights and losses\n",
    "os.makedirs(\"logs\", exist_ok=True)\n",
    "\n",
    "model_classes = {\n",
    "  \"split\": MTLDeepLabv3,\n",
    "  \"mtan\": MTANDeepLabv3,\n",
    "  # \"dinov2\": MTLDinoVisionTransformer,\n",
    "}"
   ]
  },
  {
   "cell_type": "code",
   "execution_count": 3,
   "metadata": {},
   "outputs": [],
   "source": [
    "# initialize_wandb(\n",
    "#   project=config[\"wandb\"][\"project\"], \n",
    "#   group=f\"{config['training_params']['network']}\", \n",
    "#   job_type=\"task_specific\", \n",
    "#   mode=config[\"wandb\"][\"mode\"], \n",
    "#   config={\n",
    "#     \"task\": config['training_params']['task'],\n",
    "#     \"network\": config['training_params']['network'],\n",
    "#     \"dataset\": config['training_params']['dataset'],\n",
    "#     \"epochs\": config['training_params']['total_epochs'],\n",
    "#     \"lr\": config['training_params']['lr'],\n",
    "#     \"batch_size\": config['training_params']['batch_size'],\n",
    "#     \"seed\": config['training_params']['seed'],\n",
    "#   }\n",
    "# )"
   ]
  },
  {
   "cell_type": "code",
   "execution_count": 3,
   "metadata": {},
   "outputs": [],
   "source": [
    "torch.manual_seed(config[\"training_params\"][\"seed\"])\n",
    "np.random.seed(config[\"training_params\"][\"seed\"])\n",
    "random.seed(config[\"training_params\"][\"seed\"])\n",
    "\n",
    "# device = torch.device(f\"cuda:{config[\"training_params\"]['gpu']}\" if torch.cuda.is_available() else \"cpu\")\n",
    "device = torch.device(\"cuda\" if torch.cuda.is_available() else \"cpu\")"
   ]
  },
  {
   "cell_type": "code",
   "execution_count": 4,
   "metadata": {},
   "outputs": [],
   "source": [
    "train_loader, val_loader, test_loader = get_data_loaders(config)"
   ]
  },
  {
   "cell_type": "code",
   "execution_count": 5,
   "metadata": {},
   "outputs": [
    {
     "name": "stderr",
     "output_type": "stream",
     "text": [
      "/Users/juangarcia/Dropbox/Course/Year 2/Semester 1/Semester Project/repositories/simomm/models/dinov2/layers/swiglu_ffn.py:51: UserWarning: xFormers is not available (SwiGLU)\n",
      "  warnings.warn(\"xFormers is not available (SwiGLU)\")\n",
      "/Users/juangarcia/Dropbox/Course/Year 2/Semester 1/Semester Project/repositories/simomm/models/dinov2/layers/attention.py:33: UserWarning: xFormers is not available (Attention)\n",
      "  warnings.warn(\"xFormers is not available (Attention)\")\n",
      "/Users/juangarcia/Dropbox/Course/Year 2/Semester 1/Semester Project/repositories/simomm/models/dinov2/layers/block.py:40: UserWarning: xFormers is not available (Block)\n",
      "  warnings.warn(\"xFormers is not available (Block)\")\n",
      "/Users/juangarcia/Dropbox/Course/Year 2/Semester 1/Semester Project/repositories/simomm/models/dinov2/losses/cross_entropy_loss.py:220: UserWarning: Default ``avg_non_ignore`` is False, if you would like to ignore the certain label and average loss over non-ignore labels, which is the same with PyTorch official cross_entropy, set ``avg_non_ignore=True``.\n",
      "  warnings.warn(\n"
     ]
    }
   ],
   "source": [
    "from models.dinov2.mtl.multitasker import MTLDinoV2\n",
    "\n",
    "# Initialize model\n",
    "train_tasks = create_task_flags(config[\"training_params\"][\"task\"], config[\"training_params\"][\"dataset\"])\n",
    "model = MTLDinoV2(\n",
    "  arch_name=\"vit_small\",\n",
    "  head_tasks=train_tasks,\n",
    ")\n",
    "num_params = sum(p.numel() for p in model.parameters() if p.requires_grad)\n"
   ]
  },
  {
   "cell_type": "code",
   "execution_count": 6,
   "metadata": {},
   "outputs": [
    {
     "name": "stdout",
     "output_type": "stream",
     "text": [
      "Model: Split | Number of Trainable Parameters: 22.87M\n",
      "Training Task: Nyuv2 - All in Single Task Learning Mode with SPLIT\n"
     ]
    }
   ],
   "source": [
    "print(f\"Model: {config['training_params']['network'].title()} | Number of Trainable Parameters: {num_params/1e6:.2f}M\")\n",
    "print(f\"Training Task: {config['training_params']['dataset'].title()} - {config['training_params']['task'].title()} in Single Task Learning Mode with {config['training_params']['network'].upper()}\")"
   ]
  },
  {
   "cell_type": "code",
   "execution_count": 7,
   "metadata": {},
   "outputs": [],
   "source": [
    "model.freeze_shared_layers()\n",
    "optimizer = optim.AdamW(model.parameters(), lr=config[\"training_params\"][\"lr\"], weight_decay=1e-4)\n",
    "scheduler = optim.lr_scheduler.OneCycleLR(optimizer, max_lr=config[\"training_params\"][\"lr\"], steps_per_epoch=len(train_loader), epochs=config[\"training_params\"][\"total_epochs\"],  pct_start=0.1)"
   ]
  },
  {
   "cell_type": "code",
   "execution_count": 10,
   "metadata": {},
   "outputs": [],
   "source": [
    "train_batch = len(train_loader)\n",
    "test_batch = len(test_loader)\n",
    "train_metric = TaskMetric(train_tasks, train_tasks, config[\"training_params\"][\"batch_size\"], config[\"training_params\"][\"total_epochs\"], config[\"training_params\"][\"dataset\"])\n",
    "test_metric = TaskMetric(train_tasks, train_tasks, config[\"training_params\"][\"batch_size\"], config[\"training_params\"][\"total_epochs\"], config[\"training_params\"][\"dataset\"])"
   ]
  },
  {
   "cell_type": "code",
   "execution_count": 11,
   "metadata": {},
   "outputs": [
    {
     "name": "stdout",
     "output_type": "stream",
     "text": [
      " Seg 2.0845 0.1315 Depth 0.0793 0.8321\n"
     ]
    },
    {
     "ename": "NameError",
     "evalue": "name 'afs' is not defined",
     "output_type": "error",
     "traceback": [
      "\u001b[0;31m---------------------------------------------------------------------------\u001b[0m",
      "\u001b[0;31mNameError\u001b[0m                                 Traceback (most recent call last)",
      "Cell \u001b[0;32mIn[11], line 25\u001b[0m\n\u001b[1;32m     23\u001b[0m train_str \u001b[38;5;241m=\u001b[39m train_metric\u001b[38;5;241m.\u001b[39mcompute_metric()\n\u001b[1;32m     24\u001b[0m \u001b[38;5;28mprint\u001b[39m(train_str)\n\u001b[0;32m---> 25\u001b[0m afs\n\u001b[1;32m     26\u001b[0m \u001b[38;5;66;03m# wandb.log({\u001b[39;00m\n\u001b[1;32m     27\u001b[0m \u001b[38;5;66;03m#     **{f\"train/loss/{task_id}\": train_loss[i] for i, task_id in enumerate(train_tasks)},\u001b[39;00m\n\u001b[1;32m     28\u001b[0m \u001b[38;5;66;03m#     **{f\"train/metric/{task_id}\": train_metric.get_metric(task_id) for task_id in train_tasks}\u001b[39;00m\n\u001b[1;32m     29\u001b[0m \u001b[38;5;66;03m# }, step=epoch)\u001b[39;00m\n\u001b[1;32m     30\u001b[0m train_metric\u001b[38;5;241m.\u001b[39mreset()\n",
      "\u001b[0;31mNameError\u001b[0m: name 'afs' is not defined"
     ]
    }
   ],
   "source": [
    "#  Training loop\n",
    "for epoch in range(config[\"training_params\"][\"total_epochs\"]):\n",
    "\n",
    "    # training\n",
    "    model.train()\n",
    "    train_dataset = iter(train_loader)\n",
    "    for k in range(train_batch):\n",
    "        train_data, train_target = next(train_dataset)\n",
    "        train_data = train_data.to(device)\n",
    "        train_target = {task_id: train_target[task_id].to(device) for task_id in train_tasks.keys()}\n",
    "        \n",
    "        train_res = model(train_data, None, img_gt=train_target, return_loss=True)\n",
    "        \n",
    "        optimizer.zero_grad()\n",
    "        train_res[\"total_loss\"].backward()\n",
    "        optimizer.step()\n",
    "\n",
    "        train_metric.update_metric(train_res, train_target)\n",
    "        \n",
    "        if k == 5:\n",
    "          break\n",
    "\n",
    "    train_str = train_metric.compute_metric()\n",
    "    # wandb.log({\n",
    "    #     **{f\"train/loss/{task_id}\": task_data[\"total_loss\"] for task_id, task_data in train_res.items()},\n",
    "    #     **{f\"train/metric/{task_id}\": train_metric.get_metric(task_id) for task_id in train_tasks}\n",
    "    # }, step=epoch)\n",
    "    train_metric.reset()\n",
    "\n",
    "    # evaluating\n",
    "    test_str = eval(epoch, model, test_loader, test_metric)\n",
    "\n",
    "    scheduler.step()\n",
    "\n",
    "    print(f\"Epoch {epoch:04d} | TRAIN:{train_str} || TEST:{test_str} | Best: {config['training_params']['task'].title()} {test_metric.get_best_performance(config['training_params']['task']):.4f}\")\n",
    "\n",
    "    # task_dict = {\"train_loss\": train_metric.metric, \"test_loss\": test_metric.metric}\n",
    "    # np.save(\"logging/stl_{}_{}_{}_{}.npy\".format(config[\"training_params\"][\"network\"], config[\"training_params\"][\"dataset\"], config[\"training_params\"][\"task\"], config[\"training_params\"][\"seed\"]), task_dict)\n",
    "    torch_save(model, \"checkpoints/dinov2/linear_probing/seg_model.pt\")"
   ]
  },
  {
   "cell_type": "code",
   "execution_count": null,
   "metadata": {},
   "outputs": [],
   "source": []
  },
  {
   "cell_type": "code",
   "execution_count": 11,
   "metadata": {},
   "outputs": [],
   "source": [
    "# img_metas (list[dict]): List of image info dict where each dict\n",
    "#                 has: 'img_shape', 'scale_factor', 'flip', and may also contain\n",
    "#                 'filename', 'ori_shape', 'pad_shape', and 'img_norm_cfg'."
   ]
  }
 ],
 "metadata": {
  "kernelspec": {
   "display_name": "base",
   "language": "python",
   "name": "python3"
  },
  "language_info": {
   "codemirror_mode": {
    "name": "ipython",
    "version": 3
   },
   "file_extension": ".py",
   "mimetype": "text/x-python",
   "name": "python",
   "nbconvert_exporter": "python",
   "pygments_lexer": "ipython3",
   "version": "3.11.9"
  }
 },
 "nbformat": 4,
 "nbformat_minor": 2
}
