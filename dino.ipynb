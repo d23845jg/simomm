{
 "cells": [
  {
   "cell_type": "code",
   "execution_count": 1,
   "metadata": {},
   "outputs": [
    {
     "name": "stderr",
     "output_type": "stream",
     "text": [
      "\u001b[34m\u001b[1mwandb\u001b[0m: Using wandb-core as the SDK backend. Please refer to https://wandb.me/wandb-core for more information.\n",
      "\u001b[34m\u001b[1mwandb\u001b[0m: Logging into wandb.ai. (Learn how to deploy a W&B server locally: https://wandb.me/wandb-server)\n",
      "\u001b[34m\u001b[1mwandb\u001b[0m: You can find your API key in your browser here: https://wandb.ai/authorize\n",
      "\u001b[34m\u001b[1mwandb\u001b[0m: Paste an API key from your profile and hit enter, or press ctrl+c to quit:\u001b[34m\u001b[1mwandb\u001b[0m: Appending key for api.wandb.ai to your netrc file: /home/runai-home/.netrc\n"
     ]
    },
    {
     "data": {
      "text/plain": [
       "True"
      ]
     },
     "execution_count": 1,
     "metadata": {},
     "output_type": "execute_result"
    }
   ],
   "source": [
    "import torch\n",
    "import torch.optim as optim\n",
    "import os\n",
    "import yaml\n",
    "import wandb\n",
    "\n",
    "from jinja2 import Environment, FileSystemLoader\n",
    "\n",
    "from training.create_dataset import *\n",
    "from training.create_network import *\n",
    "from training.utils import create_task_flags, TaskMetric, eval\n",
    "from utils import torch_save, get_data_loaders, initialize_wandb\n",
    "\n",
    "# Login to wandb\n",
    "wandb.login()"
   ]
  },
  {
   "cell_type": "code",
   "execution_count": 41,
   "metadata": {},
   "outputs": [],
   "source": [
    "# Options for training\n",
    "env = Environment(loader=FileSystemLoader('.'))\n",
    "template = env.get_template('config/mtl.yaml.j2')\n",
    "rendered_yaml = template.render()\n",
    "config = yaml.safe_load(rendered_yaml)\n",
    "\n",
    "# Create logging folder to store training weights and losses\n",
    "os.makedirs(\"logs\", exist_ok=True)"
   ]
  },
  {
   "cell_type": "code",
   "execution_count": 42,
   "metadata": {},
   "outputs": [
    {
     "data": {
      "text/html": [
       "Tracking run with wandb version 0.18.1"
      ],
      "text/plain": [
       "<IPython.core.display.HTML object>"
      ]
     },
     "metadata": {},
     "output_type": "display_data"
    },
    {
     "data": {
      "text/html": [
       "Run data is saved locally in <code>logs/wandb/run-20241010_220655-qga7my3u</code>"
      ],
      "text/plain": [
       "<IPython.core.display.HTML object>"
      ]
     },
     "metadata": {},
     "output_type": "display_data"
    },
    {
     "data": {
      "text/html": [
       "Syncing run <strong><a href='https://wandb.ai/juagarci/simomm/runs/qga7my3u' target=\"_blank\">graceful-firebrand-43</a></strong> to <a href='https://wandb.ai/juagarci/simomm' target=\"_blank\">Weights & Biases</a> (<a href='https://wandb.me/run' target=\"_blank\">docs</a>)<br/>"
      ],
      "text/plain": [
       "<IPython.core.display.HTML object>"
      ]
     },
     "metadata": {},
     "output_type": "display_data"
    },
    {
     "data": {
      "text/html": [
       " View project at <a href='https://wandb.ai/juagarci/simomm' target=\"_blank\">https://wandb.ai/juagarci/simomm</a>"
      ],
      "text/plain": [
       "<IPython.core.display.HTML object>"
      ]
     },
     "metadata": {},
     "output_type": "display_data"
    },
    {
     "data": {
      "text/html": [
       " View run at <a href='https://wandb.ai/juagarci/simomm/runs/qga7my3u' target=\"_blank\">https://wandb.ai/juagarci/simomm/runs/qga7my3u</a>"
      ],
      "text/plain": [
       "<IPython.core.display.HTML object>"
      ]
     },
     "metadata": {},
     "output_type": "display_data"
    },
    {
     "data": {
      "text/plain": [
       "<module 'wandb' from '/opt/conda/lib/python3.10/site-packages/wandb/__init__.py'>"
      ]
     },
     "execution_count": 42,
     "metadata": {},
     "output_type": "execute_result"
    }
   ],
   "source": [
    "initialize_wandb(\n",
    "  project=config[\"wandb\"][\"project\"], \n",
    "  group=f\"{config['training_params']['network']}\", \n",
    "  job_type=\"task_specific\", \n",
    "  mode=config[\"wandb\"][\"mode\"], \n",
    "  config={\n",
    "    \"task\": config['training_params']['task'],\n",
    "    \"network\": config['training_params']['network'],\n",
    "    \"dataset\": config['training_params']['dataset'],\n",
    "    \"epochs\": config['training_params']['total_epochs'],\n",
    "    \"lr\": config['training_params']['lr'],\n",
    "    \"batch_size\": config['training_params']['batch_size'],\n",
    "    \"seed\": config['training_params']['seed'],\n",
    "  }\n",
    ")"
   ]
  },
  {
   "cell_type": "code",
   "execution_count": 43,
   "metadata": {},
   "outputs": [],
   "source": [
    "torch.manual_seed(config[\"training_params\"][\"seed\"])\n",
    "np.random.seed(config[\"training_params\"][\"seed\"])\n",
    "random.seed(config[\"training_params\"][\"seed\"])\n",
    "\n",
    "# device = torch.device(f\"cuda:{config[\"training_params\"]['gpu']}\" if torch.cuda.is_available() else \"cpu\")\n",
    "device = torch.device(\"cuda\" if torch.cuda.is_available() else \"cpu\")"
   ]
  },
  {
   "cell_type": "code",
   "execution_count": 44,
   "metadata": {},
   "outputs": [],
   "source": [
    "train_loader, val_loader, test_loader = get_data_loaders(config)"
   ]
  },
  {
   "cell_type": "code",
   "execution_count": 45,
   "metadata": {},
   "outputs": [
    {
     "name": "stdout",
     "output_type": "stream",
     "text": [
      "Training Task: Nyuv2 - Seg in Single Task Learning Mode with SPLIT\n",
      "Model: Split | Number of Trainable Parameters: 86.63M\n"
     ]
    },
    {
     "name": "stderr",
     "output_type": "stream",
     "text": [
      "/mnt/lts4/scratch/students/juagarci/simomm/models/dinov2/losses/cross_entropy_loss.py:220: UserWarning: Default ``avg_non_ignore`` is False, if you would like to ignore the certain label and average loss over non-ignore labels, which is the same with PyTorch official cross_entropy, set ``avg_non_ignore=True``.\n",
      "  warnings.warn(\n"
     ]
    }
   ],
   "source": [
    "from models.dinov2.mtl.multitasker import MTLDinoV2\n",
    "\n",
    "# Initialize model\n",
    "train_tasks = create_task_flags(config[\"training_params\"][\"task\"], config[\"training_params\"][\"dataset\"])\n",
    "print(f\"Training Task: {config['training_params']['dataset'].title()} - {config['training_params']['task'].title()} in Single Task Learning Mode with {config['training_params']['network'].upper()}\")\n",
    "\n",
    "model = MTLDinoV2(\n",
    "  arch_name=\"vit_base\",\n",
    "  head_tasks=train_tasks,\n",
    ")\n",
    "num_params = sum(p.numel() for p in model.parameters() if p.requires_grad)\n",
    "print(f\"Model: {config['training_params']['network'].title()} | Number of Trainable Parameters: {num_params/1e6:.2f}M\")"
   ]
  },
  {
   "cell_type": "code",
   "execution_count": 46,
   "metadata": {},
   "outputs": [],
   "source": [
    "model.freeze_shared_layers()\n",
    "optimizer = optim.AdamW(model.parameters(), lr=config[\"training_params\"][\"lr\"], weight_decay=1e-4)\n",
    "scheduler = optim.lr_scheduler.OneCycleLR(optimizer, max_lr=config[\"training_params\"][\"lr\"], steps_per_epoch=len(train_loader), epochs=config[\"training_params\"][\"total_epochs\"],  pct_start=0.1)"
   ]
  },
  {
   "cell_type": "code",
   "execution_count": 47,
   "metadata": {},
   "outputs": [],
   "source": [
    "train_batch = len(train_loader)\n",
    "test_batch = len(test_loader)\n",
    "train_metric = TaskMetric(train_tasks, train_tasks, config[\"training_params\"][\"batch_size\"], config[\"training_params\"][\"total_epochs\"], config[\"training_params\"][\"dataset\"])\n",
    "test_metric = TaskMetric(train_tasks, train_tasks, config[\"training_params\"][\"batch_size\"], config[\"training_params\"][\"total_epochs\"], config[\"training_params\"][\"dataset\"])"
   ]
  },
  {
   "cell_type": "code",
   "execution_count": 48,
   "metadata": {},
   "outputs": [
    {
     "name": "stdout",
     "output_type": "stream",
     "text": [
      "Epoch 0000 | TRAIN: Seg 1.5399 0.2619 || TEST: Seg 0.7968 0.5455 | Best: Seg 0.5455\n",
      "Epoch 0001 | TRAIN: Seg 0.6280 0.6124 || TEST: Seg 0.6252 0.5999 | Best: Seg 0.5999\n",
      "Epoch 0002 | TRAIN: Seg 0.5146 0.6440 || TEST: Seg 0.5694 0.6046 | Best: Seg 0.6046\n",
      "Epoch 0003 | TRAIN: Seg 0.4723 0.6625 || TEST: Seg 0.5465 0.6179 | Best: Seg 0.6179\n",
      "Epoch 0004 | TRAIN: Seg 0.4556 0.6649 || TEST: Seg 0.5310 0.6200 | Best: Seg 0.6200\n",
      "Epoch 0005 | TRAIN: Seg 0.4267 0.6741 || TEST: Seg 0.5316 0.6269 | Best: Seg 0.6269\n",
      "Epoch 0006 | TRAIN: Seg 0.4192 0.6884 || TEST: Seg 0.5183 0.6252 | Best: Seg 0.6269\n",
      "Epoch 0007 | TRAIN: Seg 0.4107 0.6901 || TEST: Seg 0.5139 0.6276 | Best: Seg 0.6276\n",
      "Epoch 0008 | TRAIN: Seg 0.4082 0.6989 || TEST: Seg 0.5141 0.6304 | Best: Seg 0.6304\n",
      "Epoch 0009 | TRAIN: Seg 0.4103 0.7114 || TEST: Seg 0.5117 0.6307 | Best: Seg 0.6307\n"
     ]
    }
   ],
   "source": [
    "#  Training loop\n",
    "model.to(device)\n",
    "for epoch in range(config[\"training_params\"][\"total_epochs\"]):\n",
    "    # training\n",
    "    model.train()\n",
    "    train_dataset = iter(train_loader)\n",
    "    for k in range(train_batch):\n",
    "        train_data, train_target = next(train_dataset)\n",
    "        train_data = train_data.to(device)\n",
    "        train_target = {task_id: train_target[task_id].to(device) for task_id in model.head_tasks}\n",
    "        \n",
    "        train_res = model(train_data, None, img_gt=train_target, return_loss=True)\n",
    "        \n",
    "        optimizer.zero_grad()\n",
    "        train_res[\"total_loss\"].backward()\n",
    "        optimizer.step()\n",
    "        scheduler.step()\n",
    "\n",
    "        train_metric.update_metric(train_res, train_target)\n",
    "    \n",
    "    train_str = train_metric.compute_metric()\n",
    "    \n",
    "    wandb.log({\n",
    "        **{f\"train/loss/{task_id}\": train_res[task_id][\"total_loss\"] for task_id in model.head_tasks},\n",
    "        **{f\"train/metric/{task_id}\": train_metric.get_metric(task_id) for task_id in model.head_tasks}\n",
    "    },) # step=epoch\n",
    "    train_metric.reset()\n",
    "\n",
    "    # evaluating\n",
    "    test_str = eval(epoch, model, test_loader, test_metric)\n",
    "\n",
    "    print(f\"Epoch {epoch:04d} | TRAIN:{train_str} || TEST:{test_str} | Best: {config['training_params']['task'].title()} {test_metric.get_best_performance(config['training_params']['task']):.4f}\")\n",
    "\n",
    "    # task_dict = {\"train_loss\": train_metric.metric, \"test_loss\": test_metric.metric}\n",
    "    # np.save(\"logging/stl_{}_{}_{}_{}.npy\".format(config[\"training_params\"][\"network\"], config[\"training_params\"][\"dataset\"], config[\"training_params\"][\"task\"], config[\"training_params\"][\"seed\"]), task_dict)\n",
    "    torch_save(model, \"checkpoints/dinov2/linear_probing/seg_head_model.pt\")"
   ]
  },
  {
   "cell_type": "code",
   "execution_count": 49,
   "metadata": {},
   "outputs": [],
   "source": [
    "# Options for training\n",
    "env = Environment(loader=FileSystemLoader('.'))\n",
    "template = env.get_template('config/mtl.yaml.j2')\n",
    "rendered_yaml = template.render()\n",
    "config = yaml.safe_load(rendered_yaml)"
   ]
  },
  {
   "cell_type": "code",
   "execution_count": 50,
   "metadata": {},
   "outputs": [],
   "source": [
    "train_loader, val_loader, test_loader = get_data_loaders(config)"
   ]
  },
  {
   "cell_type": "code",
   "execution_count": 51,
   "metadata": {},
   "outputs": [],
   "source": [
    "train_batch = len(train_loader)\n",
    "test_batch = len(test_loader)\n",
    "train_metric = TaskMetric(train_tasks, train_tasks, config[\"training_params\"][\"batch_size\"], 3*config[\"training_params\"][\"total_epochs\"], config[\"training_params\"][\"dataset\"])\n",
    "test_metric = TaskMetric(train_tasks, train_tasks, config[\"training_params\"][\"batch_size\"], 3*config[\"training_params\"][\"total_epochs\"], config[\"training_params\"][\"dataset\"])"
   ]
  },
  {
   "cell_type": "code",
   "execution_count": 52,
   "metadata": {},
   "outputs": [],
   "source": [
    "model.freeze_shared_layers(requires_grad=True)\n",
    "optimizer = optim.AdamW(model.parameters(), lr=config[\"training_params\"][\"lr\"], weight_decay=1e-4)\n",
    "scheduler = optim.lr_scheduler.OneCycleLR(optimizer, max_lr=config[\"training_params\"][\"lr\"], steps_per_epoch=len(train_loader), epochs=3*config[\"training_params\"][\"total_epochs\"],  pct_start=0.05)"
   ]
  },
  {
   "cell_type": "code",
   "execution_count": 53,
   "metadata": {},
   "outputs": [
    {
     "name": "stdout",
     "output_type": "stream",
     "text": [
      "Epoch 0000 | TRAIN: Seg 0.3939 0.7066 || TEST: Seg 0.5034 0.6356 | Best: Seg 0.6356\n",
      "Epoch 0001 | TRAIN: Seg 0.3878 0.7121 || TEST: Seg 0.4897 0.6437 | Best: Seg 0.6437\n",
      "Epoch 0002 | TRAIN: Seg 0.3700 0.7194 || TEST: Seg 0.4799 0.6493 | Best: Seg 0.6493\n",
      "Epoch 0003 | TRAIN: Seg 0.3524 0.7335 || TEST: Seg 0.4730 0.6529 | Best: Seg 0.6529\n",
      "Epoch 0004 | TRAIN: Seg 0.3494 0.7272 || TEST: Seg 0.4694 0.6560 | Best: Seg 0.6560\n",
      "Epoch 0005 | TRAIN: Seg 0.3497 0.7336 || TEST: Seg 0.4635 0.6594 | Best: Seg 0.6594\n",
      "Epoch 0006 | TRAIN: Seg 0.3381 0.7393 || TEST: Seg 0.4565 0.6621 | Best: Seg 0.6621\n",
      "Epoch 0007 | TRAIN: Seg 0.3242 0.7505 || TEST: Seg 0.4585 0.6644 | Best: Seg 0.6644\n",
      "Epoch 0008 | TRAIN: Seg 0.3347 0.7391 || TEST: Seg 0.4566 0.6630 | Best: Seg 0.6644\n",
      "Epoch 0009 | TRAIN: Seg 0.3208 0.7478 || TEST: Seg 0.4519 0.6649 | Best: Seg 0.6649\n",
      "Epoch 0010 | TRAIN: Seg 0.3118 0.7455 || TEST: Seg 0.4478 0.6674 | Best: Seg 0.6674\n",
      "Epoch 0011 | TRAIN: Seg 0.3038 0.7643 || TEST: Seg 0.4462 0.6699 | Best: Seg 0.6699\n",
      "Epoch 0012 | TRAIN: Seg 0.3057 0.7528 || TEST: Seg 0.4447 0.6697 | Best: Seg 0.6699\n",
      "Epoch 0013 | TRAIN: Seg 0.2992 0.7632 || TEST: Seg 0.4426 0.6693 | Best: Seg 0.6699\n",
      "Epoch 0014 | TRAIN: Seg 0.2915 0.7676 || TEST: Seg 0.4416 0.6688 | Best: Seg 0.6699\n",
      "Epoch 0015 | TRAIN: Seg 0.3039 0.7632 || TEST: Seg 0.4436 0.6696 | Best: Seg 0.6699\n",
      "Epoch 0016 | TRAIN: Seg 0.2881 0.7674 || TEST: Seg 0.4401 0.6702 | Best: Seg 0.6702\n",
      "Epoch 0017 | TRAIN: Seg 0.2857 0.7710 || TEST: Seg 0.4405 0.6709 | Best: Seg 0.6709\n",
      "Epoch 0018 | TRAIN: Seg 0.2834 0.7731 || TEST: Seg 0.4425 0.6715 | Best: Seg 0.6715\n",
      "Epoch 0019 | TRAIN: Seg 0.2817 0.7626 || TEST: Seg 0.4358 0.6728 | Best: Seg 0.6728\n",
      "Epoch 0020 | TRAIN: Seg 0.2743 0.7755 || TEST: Seg 0.4386 0.6727 | Best: Seg 0.6728\n",
      "Epoch 0021 | TRAIN: Seg 0.2761 0.7734 || TEST: Seg 0.4366 0.6729 | Best: Seg 0.6729\n",
      "Epoch 0022 | TRAIN: Seg 0.2819 0.7704 || TEST: Seg 0.4415 0.6730 | Best: Seg 0.6730\n",
      "Epoch 0023 | TRAIN: Seg 0.2740 0.7815 || TEST: Seg 0.4390 0.6728 | Best: Seg 0.6730\n",
      "Epoch 0024 | TRAIN: Seg 0.2765 0.7771 || TEST: Seg 0.4395 0.6727 | Best: Seg 0.6730\n",
      "Epoch 0025 | TRAIN: Seg 0.2781 0.7712 || TEST: Seg 0.4369 0.6728 | Best: Seg 0.6730\n",
      "Epoch 0026 | TRAIN: Seg 0.2717 0.7836 || TEST: Seg 0.4410 0.6719 | Best: Seg 0.6730\n",
      "Epoch 0027 | TRAIN: Seg 0.2860 0.7795 || TEST: Seg 0.4371 0.6728 | Best: Seg 0.6730\n",
      "Epoch 0028 | TRAIN: Seg 0.2776 0.7808 || TEST: Seg 0.4364 0.6732 | Best: Seg 0.6732\n",
      "Epoch 0029 | TRAIN: Seg 0.2849 0.7649 || TEST: Seg 0.4367 0.6727 | Best: Seg 0.6732\n"
     ]
    }
   ],
   "source": [
    "#  Training loop\n",
    "model.to(device)\n",
    "for epoch in range(3*config[\"training_params\"][\"total_epochs\"]):\n",
    "    # training\n",
    "    model.train()\n",
    "    train_dataset = iter(train_loader)\n",
    "    for k in range(train_batch):\n",
    "        train_data, train_target = next(train_dataset)\n",
    "        train_data = train_data.to(device)\n",
    "        train_target = {task_id: train_target[task_id].to(device) for task_id in model.head_tasks}\n",
    "        \n",
    "        train_res = model(train_data, None, img_gt=train_target, return_loss=True)\n",
    "        \n",
    "        optimizer.zero_grad()\n",
    "        train_res[\"total_loss\"].backward()\n",
    "        optimizer.step()\n",
    "        scheduler.step()\n",
    "\n",
    "        train_metric.update_metric(train_res, train_target)\n",
    "    \n",
    "    train_str = train_metric.compute_metric()\n",
    "    \n",
    "    wandb.log({\n",
    "        **{f\"train/loss/{task_id}\": train_res[task_id][\"total_loss\"] for task_id in model.head_tasks},\n",
    "        **{f\"train/metric/{task_id}\": train_metric.get_metric(task_id) for task_id in model.head_tasks}\n",
    "    },) # step=epoch\n",
    "    train_metric.reset()\n",
    "\n",
    "    # evaluating\n",
    "    test_str = eval(epoch, model, test_loader, test_metric)\n",
    "\n",
    "    print(f\"Epoch {epoch:04d} | TRAIN:{train_str} || TEST:{test_str} | Best: {config['training_params']['task'].title()} {test_metric.get_best_performance(config['training_params']['task']):.4f}\")\n",
    "\n",
    "    # task_dict = {\"train_loss\": train_metric.metric, \"test_loss\": test_metric.metric}\n",
    "    # np.save(\"logging/stl_{}_{}_{}_{}.npy\".format(config[\"training_params\"][\"network\"], config[\"training_params\"][\"dataset\"], config[\"training_params\"][\"task\"], config[\"training_params\"][\"seed\"]), task_dict)\n",
    "    torch_save(model, \"checkpoints/dinov2/linear_probing/seg_model.pt\")"
   ]
  },
  {
   "cell_type": "code",
   "execution_count": 54,
   "metadata": {},
   "outputs": [
    {
     "data": {
      "text/html": [
       " View run <strong style=\"color:#cdcd00\">graceful-firebrand-43</strong> at: <a href='https://wandb.ai/juagarci/simomm/runs/qga7my3u' target=\"_blank\">https://wandb.ai/juagarci/simomm/runs/qga7my3u</a><br/> View project at: <a href='https://wandb.ai/juagarci/simomm' target=\"_blank\">https://wandb.ai/juagarci/simomm</a><br/>Synced 5 W&B file(s), 0 media file(s), 6 artifact file(s) and 640 other file(s)"
      ],
      "text/plain": [
       "<IPython.core.display.HTML object>"
      ]
     },
     "metadata": {},
     "output_type": "display_data"
    }
   ],
   "source": [
    "wandb.finish(quiet=True)"
   ]
  },
  {
   "cell_type": "code",
   "execution_count": 11,
   "metadata": {},
   "outputs": [],
   "source": [
    "# img_metas (list[dict]): List of image info dict where each dict\n",
    "#                 has: 'img_shape', 'scale_factor', 'flip', and may also contain\n",
    "#                 'filename', 'ori_shape', 'pad_shape', and 'img_norm_cfg'."
   ]
  }
 ],
 "metadata": {
  "kernelspec": {
   "display_name": "base",
   "language": "python",
   "name": "python3"
  },
  "language_info": {
   "codemirror_mode": {
    "name": "ipython",
    "version": 3
   },
   "file_extension": ".py",
   "mimetype": "text/x-python",
   "name": "python",
   "nbconvert_exporter": "python",
   "pygments_lexer": "ipython3",
   "version": "3.10.14"
  }
 },
 "nbformat": 4,
 "nbformat_minor": 2
}
